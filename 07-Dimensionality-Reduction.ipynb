{
 "cells": [
  {
   "cell_type": "markdown",
   "metadata": {},
   "source": [
    "### Dimensionality Reduction Techniques\n",
    "Similar to feature selection, the topic of dimensionality reduction involves techniques of extracting the discriminitory power from complex hyper-dimensional spaces by learning their hidden internal structures. It's not uncommon for very large data-sets to contain hundreds, or even thousands, of features. What's more, often times many of those features may have archane meanings and/or exhibit very little correlation to an dependent (response) feature; instead exhibiting stronger correlation to one or more of the other independent (predictor) features. These scenarios make feature selection challenging if not even impossible since examining each feature individually would be impractical. This notebook will explore and demonstrate the following  techniques:\n",
    "\n",
    "- Principal Component Analysis (PCA)\n",
    "- Linear Discriminant Analysis (LDA)"
   ]
  },
  {
   "cell_type": "markdown",
   "metadata": {},
   "source": [
    "### Import Required Libraries"
   ]
  },
  {
   "cell_type": "code",
   "execution_count": 1,
   "metadata": {},
   "outputs": [],
   "source": [
    "import os\n",
    "import numpy as np\n",
    "import pandas as pd\n",
    "    \n",
    "import warnings\n",
    "warnings.filterwarnings(\"ignore\")\n",
    "\n",
    "from sklearn.model_selection import train_test_split\n",
    "from sklearn.preprocessing import StandardScaler\n",
    "from sklearn.decomposition import PCA\n",
    "from sklearn.discriminant_analysis import LinearDiscriminantAnalysis\n",
    "from sklearn.metrics import roc_curve, auc, roc_auc_score\n",
    "\n",
    "import matplotlib.pyplot as plt\n",
    "%matplotlib inline"
   ]
  },
  {
   "cell_type": "markdown",
   "metadata": {},
   "source": [
    "### Load the Data"
   ]
  },
  {
   "cell_type": "code",
   "execution_count": 2,
   "metadata": {},
   "outputs": [
    {
     "name": "stdout",
     "output_type": "stream",
     "text": [
      "DataSet Dimensions: (7043, 20)\n"
     ]
    }
   ],
   "source": [
    "# Read the cleaned source file into a DataFrame.\n",
    "data_dir = os.path.join(os.getcwd(), 'Data')\n",
    "source_file = os.path.join(data_dir, 'WA-Telco-Customer-Churn-ML.csv')\n",
    "df = pd.read_csv(source_file, header=0, index_col=0)\n",
    "\n",
    "# Drop the Unique Identifier\n",
    "df = df.drop(labels=['Customerid'], axis=1)\n",
    "\n",
    "# Display the Dimensions of the DataSet Being Used.\n",
    "print(\"DataSet Dimensions:\", df.shape)"
   ]
  },
  {
   "cell_type": "markdown",
   "metadata": {},
   "source": [
    "#### Make Appropriate Data Type Assignments"
   ]
  },
  {
   "cell_type": "code",
   "execution_count": 3,
   "metadata": {},
   "outputs": [
    {
     "data": {
      "text/plain": [
       "Gender                int64\n",
       "SeniorCitizen         int64\n",
       "Partner               int64\n",
       "Dependents            int64\n",
       "Tenure                int64\n",
       "PhoneService          int64\n",
       "MultipleLines         int64\n",
       "InternetService       int64\n",
       "OnlineSecurity        int64\n",
       "OnlineBackup          int64\n",
       "DeviceProtection      int64\n",
       "TechSupport           int64\n",
       "StreamingTV           int64\n",
       "StreamingMovies       int64\n",
       "Contract              int64\n",
       "PaperlessBilling      int64\n",
       "PaymentMethod         int64\n",
       "MonthlyCharges      float64\n",
       "TotalCharges        float64\n",
       "Churn                 int64\n",
       "dtype: object"
      ]
     },
     "execution_count": 3,
     "metadata": {},
     "output_type": "execute_result"
    }
   ],
   "source": [
    "def set_datatypes(dframe):\n",
    "    for col in dframe.columns:\n",
    "        if dframe[col].dtypes.str.startswith('int'):\n",
    "            dframe[col] = pd.to_numeric(dframe[col],\n",
    "                                        downcast='integer',\n",
    "                                        errors='coerce')\n",
    "            \n",
    "        elif dframe[col].dtypes.str.startswith('float'):\n",
    "            dframe[col] = pd.to_numeric(dframe[col],\n",
    "                                        downcast='float',\n",
    "                                        errors='coerce')\n",
    "            \n",
    "        elif dframe[col].dtypes == 'object':\n",
    "            dframe[col] = dframe[col].astype('category')\n",
    "        \n",
    "    return dframe\n",
    "\n",
    "df = set_datatypes(df)\n",
    "\n",
    "# Validate new data type assignments.\n",
    "df.dtypes"
   ]
  },
  {
   "cell_type": "markdown",
   "metadata": {},
   "source": [
    "#### Separate the Independant (Predictor) Variables (X) from the Dependant (Target, Response, or Label) Variable (y)"
   ]
  },
  {
   "cell_type": "code",
   "execution_count": 4,
   "metadata": {},
   "outputs": [],
   "source": [
    "X = df.drop(labels=['Churn'], axis=1)\n",
    "y = df.Churn"
   ]
  },
  {
   "cell_type": "markdown",
   "metadata": {
    "collapsed": true
   },
   "source": [
    "#### Create Separate Datasets for Training and Testing"
   ]
  },
  {
   "cell_type": "code",
   "execution_count": 5,
   "metadata": {},
   "outputs": [
    {
     "name": "stdout",
     "output_type": "stream",
     "text": [
      "-------------------------------------------------------------------\n",
      "Training Observations: (5282, 19)\n",
      "Testing Observations: (1761, 19)\n",
      "-------------------------------------------------------------------\n",
      "\n",
      "Training Label Distribution:\n",
      " 0    3880\n",
      "1    1402\n",
      "Name: Churn, dtype: int64\n",
      "-------------------------------------------------------------------\n",
      "Testing Label Distribution:\n",
      " 0    1294\n",
      "1     467\n",
      "Name: Churn, dtype: int64\n",
      "-------------------------------------------------------------------\n"
     ]
    }
   ],
   "source": [
    "X_train, X_test, y_train, y_test = train_test_split(X, y, test_size=0.25, stratify=y, random_state=42)\n",
    "\n",
    "# Use 75% of the observations for training...\n",
    "print('-------------------------------------------------------------------')\n",
    "print(\"Training Observations:\", X_train.shape)\n",
    "\n",
    "# ...And use the rest for testing.\n",
    "print(\"Testing Observations:\", X_test.shape)\n",
    "print('-------------------------------------------------------------------\\n')\n",
    "\n",
    "# Examine the distribution of Labels for the two datasets.\n",
    "print(\"Training Label Distribution:\\n\", y_train.value_counts())\n",
    "print('-------------------------------------------------------------------')\n",
    "print(\"Testing Label Distribution:\\n\", y_test.value_counts())\n",
    "print('-------------------------------------------------------------------')"
   ]
  },
  {
   "cell_type": "markdown",
   "metadata": {},
   "source": [
    "#### Perform Scalar Standardization of the Datasets"
   ]
  },
  {
   "cell_type": "code",
   "execution_count": 6,
   "metadata": {},
   "outputs": [],
   "source": [
    "scaler = StandardScaler()\n",
    "\n",
    "X_train = scaler.fit_transform(X_train)\n",
    "X_test = scaler.transform(X_test)"
   ]
  },
  {
   "cell_type": "markdown",
   "metadata": {},
   "source": [
    "### Technique 1: Principal Component Analysis (PCA)\n",
    "Principal Component Analysis (PCA) is an unsupervised learning algorithm that's frequently used to address problems including hyperparametric data and the presence of non-linear feature correlations. Implementing a technique called matrix decomposition, PCA creates uncorrelated linear combinations using the original features, and then projects the sum of their discriminatory power onto a much smaller dimensional space. In other words, the predictive power of a large number of features is \"distilled\" into a smaller number of more powerful \"components\". The resulting components are fully independent and uncorrelated (i.e., they exhibit no relation to one another) and are ranked according to their \"explained variance\" (i.e., the amount of variance they represent from the original features). One drawback of implementing PCA is that it isn't easily interpretable since it obscures the identity of the features as they contribute to the predictive power of the dataset. Therefore, its use is appropriate when it is unnecessary to understand the origin of the prediction."
   ]
  },
  {
   "cell_type": "code",
   "execution_count": 7,
   "metadata": {},
   "outputs": [
    {
     "name": "stdout",
     "output_type": "stream",
     "text": [
      "[0.22447058 0.12078828 0.07859267 0.06396265 0.05747223 0.05301468\n",
      " 0.04887171 0.0453574  0.04314648 0.04086019 0.03749888 0.03653018\n",
      " 0.03561703 0.03009237 0.02906223 0.02486371 0.01689005 0.01013232\n",
      " 0.00277638]\n",
      "-------------------------------------------------------------------\n",
      "Total Variance Explained: 1.0000\n",
      "-------------------------------------------------------------------\n"
     ]
    }
   ],
   "source": [
    "# Define the Number of Components to Target\n",
    "n_components = X_train.shape[1]\n",
    "\n",
    "# Get the range of components\n",
    "components = list(range(1, n_components+1))\n",
    "\n",
    "pca = PCA(n_components=n_components)\n",
    "\n",
    "# Reduce the data, outputting an ndarray\n",
    "X_train = pca.fit_transform(X_train)\n",
    "X_test = pca.transform(X_test)\n",
    "\n",
    "# Get the explained variance associated with each component.\n",
    "explained_variance = pca.explained_variance_ratio_\n",
    "\n",
    "# Print out the explained variance associated with each component.\n",
    "print(explained_variance)\n",
    "print('-------------------------------------------------------------------')\n",
    "print(\"Total Variance Explained: %0.4f\" % sum(explained_variance))\n",
    "print('-------------------------------------------------------------------')"
   ]
  },
  {
   "cell_type": "markdown",
   "metadata": {},
   "source": [
    "##### Use a Skree Plot to Illustrate the Explained Variance of Each Component"
   ]
  },
  {
   "cell_type": "code",
   "execution_count": 8,
   "metadata": {},
   "outputs": [
    {
     "data": {
      "image/png": "[encoded data removed]",
      "text/plain": [
       "<Figure size 576x288 with 1 Axes>"
      ]
     },
     "metadata": {
      "needs_background": "light"
     },
     "output_type": "display_data"
    }
   ],
   "source": [
    "fig = plt.figure(figsize=(8,4))\n",
    "plt.scatter(components, explained_variance)\n",
    "plt.ylabel('Explained Variance (Eigenvalues)')\n",
    "plt.xlabel('Components (Eigenvectors)')\n",
    "plt.grid(True)\n",
    "plt.show()"
   ]
  },
  {
   "cell_type": "markdown",
   "metadata": {
    "collapsed": true
   },
   "source": [
    "### Technique 2: Linear Discriminant Analysis (LDA)\n",
    "Unlike Principal Component Analysis (PCA), Linear Discriminant Analysis (LDA) is a supervised learning algorithm; therefore, it can only be used when a label (dependent variable) is included in the source data. However, like PCA, Linear Discriminant Analysis (LDA) also creates linear combinations of the original features for the sake of projecting the sum of their discriminatory power onto a much smaller dimensional space. LDA also differs from PCA in that it doesn't maximize the explained variance contained within each resulting component. Rather, since LDA is a classification algorithm it works by maximizing the separability between the classes that are defined by the dependent (label, target or response) variable.  Whereas PCA redistributes the variability of a feature-set to a smaller set of ranked components, LDA learns the decision boundaries from the dependent variable, and then redistributes the features that account for most variablity between classes to their most discriminitory directions. Ultimately the number of components produced should reflect the number of classifications represented by the label  "
   ]
  },
  {
   "cell_type": "code",
   "execution_count": 9,
   "metadata": {},
   "outputs": [],
   "source": [
    "# Define the Number of Components to Target\n",
    "n_components = len(y_train.unique())-1\n",
    "\n",
    "lda = LinearDiscriminantAnalysis(n_components=n_components)\n",
    "\n",
    "# Reduce the data\n",
    "X_train = lda.fit(X_train, y_train).transform(X_train)  \n",
    "#X_test = lda.transform(X_test)\n",
    "\n",
    "# Get Predictions and probabilities\n",
    "y_pred = lda.predict(X_test)\n",
    "y_probs = lda.predict_proba(X_test)"
   ]
  },
  {
   "cell_type": "markdown",
   "metadata": {
    "collapsed": true
   },
   "source": [
    "#### Illustrate the Separability of Each Component"
   ]
  },
  {
   "cell_type": "code",
   "execution_count": 10,
   "metadata": {},
   "outputs": [
    {
     "data": {
      "image/png": "[encoded data removed]",
      "text/plain": [
       "<Figure size 576x288 with 1 Axes>"
      ]
     },
     "metadata": {
      "needs_background": "light"
     },
     "output_type": "display_data"
    }
   ],
   "source": [
    "target_names = ['No Churn', 'Churn']\n",
    "colors = ['navy', 'darkorange']\n",
    "lw = 2\n",
    "\n",
    "plt.figure(figsize=(8,4))\n",
    "\n",
    "for color, i, target_name in zip(colors, [0, 1], target_names):\n",
    "    plt.scatter(X_train[y_train == i, 0], X_train[y_train == i, -1], alpha=.5, color=color, label=target_name)\n",
    "\n",
    "plt.legend(loc='best', shadow=False, scatterpoints=1)\n",
    "plt.title('LDA of Churn dataset')\n",
    "plt.show()"
   ]
  },
  {
   "cell_type": "code",
   "execution_count": 11,
   "metadata": {},
   "outputs": [
    {
     "data": {
      "text/html": [
       "<div>\n",
       "<style scoped>\n",
       "    .dataframe tbody tr th:only-of-type {\n",
       "        vertical-align: middle;\n",
       "    }\n",
       "\n",
       "    .dataframe tbody tr th {\n",
       "        vertical-align: top;\n",
       "    }\n",
       "\n",
       "    .dataframe thead th {\n",
       "        text-align: right;\n",
       "    }\n",
       "</style>\n",
       "<table border=\"1\" class=\"dataframe\">\n",
       "  <thead>\n",
       "    <tr style=\"text-align: right;\">\n",
       "      <th>Predictions</th>\n",
       "      <th>0</th>\n",
       "      <th>1</th>\n",
       "    </tr>\n",
       "    <tr>\n",
       "      <th>Actuals</th>\n",
       "      <th></th>\n",
       "      <th></th>\n",
       "    </tr>\n",
       "  </thead>\n",
       "  <tbody>\n",
       "    <tr>\n",
       "      <th>0</th>\n",
       "      <td>1140</td>\n",
       "      <td>154</td>\n",
       "    </tr>\n",
       "    <tr>\n",
       "      <th>1</th>\n",
       "      <td>215</td>\n",
       "      <td>252</td>\n",
       "    </tr>\n",
       "  </tbody>\n",
       "</table>\n",
       "</div>"
      ],
      "text/plain": [
       "Predictions     0    1\n",
       "Actuals               \n",
       "0            1140  154\n",
       "1             215  252"
      ]
     },
     "execution_count": 11,
     "metadata": {},
     "output_type": "execute_result"
    }
   ],
   "source": [
    "# Create a Confusion Matrix\n",
    "pd.crosstab(y_test, y_pred, rownames=['Actuals'], colnames=['Predictions'])"
   ]
  },
  {
   "cell_type": "code",
   "execution_count": 12,
   "metadata": {},
   "outputs": [
    {
     "data": {
      "image/png": "[encoded data removed]",
      "text/plain": [
       "<Figure size 360x360 with 1 Axes>"
      ]
     },
     "metadata": {
      "needs_background": "light"
     },
     "output_type": "display_data"
    }
   ],
   "source": [
    "plt.figure(figsize=(5,5))\n",
    "plt.title('ROC Curve (Linear Discriminant Analysis)')\n",
    "\n",
    "fpr, tpr, _ = roc_curve(y_test, y_probs[:, 1])\n",
    "auc = roc_auc_score(y_test, y_probs[:, 1])\n",
    "\n",
    "plt.plot(fpr, tpr, color='darkorange', label='ROC Curve (area = %0.2f)' % auc)\n",
    "plt.plot([0,1], [0,1], color='steelblue', lw=2, linestyle='--')   \n",
    "plt.xlim([0.0, 1.0])\n",
    "plt.ylim([0.0, 1.05])\n",
    "plt.xlabel('False Positive Rate')\n",
    "plt.ylabel('True Positive Rate')\n",
    "plt.legend(loc='lower right')\n",
    "plt.show()"
   ]
  },
  {
   "cell_type": "code",
   "execution_count": null,
   "metadata": {},
   "outputs": [],
   "source": []
  }
 ],
 "metadata": {
  "kernelspec": {
   "display_name": "Python 3",
   "language": "python",
   "name": "python3"
  },
  "language_info": {
   "codemirror_mode": {
    "name": "ipython",
    "version": 3
   },
   "file_extension": ".py",
   "mimetype": "text/x-python",
   "name": "python",
   "nbconvert_exporter": "python",
   "pygments_lexer": "ipython3",
   "version": "3.6.9"
  }
 },
 "nbformat": 4,
 "nbformat_minor": 2
}
