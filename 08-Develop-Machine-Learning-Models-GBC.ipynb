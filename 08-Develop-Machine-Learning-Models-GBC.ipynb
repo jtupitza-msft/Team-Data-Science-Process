{
 "cells": [
  {
   "cell_type": "markdown",
   "metadata": {},
   "source": [
    "## Training (Fitting) Machine Learning Models\n",
    "- Train and Test Models using a Variety of Appropriate [Classification] Algorithms\n",
    "- Tune (Optimize) Each Model''s Hyperparameters\n",
    "- Perform K-Fold Cross-Validation Using Each Model\n",
    "- Evaluate the Optimally-Fitted Models Against a Hold-Out (Out-of-Sample) Dataset\n",
    "- Determine Each Model''s Accuracy and Identify the Best Model."
   ]
  },
  {
   "cell_type": "markdown",
   "metadata": {},
   "source": [
    "### Import Required Libraries"
   ]
  },
  {
   "cell_type": "code",
   "execution_count": 1,
   "metadata": {},
   "outputs": [
    {
     "name": "stdout",
     "output_type": "stream",
     "text": [
      "SciKit-Learn Version: 0.24.1\n"
     ]
    }
   ],
   "source": [
    "import os\n",
    "import numpy as np\n",
    "import pandas as pd\n",
    "import pickle\n",
    "\n",
    "import sklearn\n",
    "print(\"SciKit-Learn Version:\", sklearn.__version__)\n",
    "\n",
    "if sklearn.__version__ >= '0.18.0':  # Starting with sklearn version 18.0\n",
    "    from sklearn.model_selection import train_test_split, cross_val_score\n",
    "    from sklearn.model_selection import GridSearchCV, RandomizedSearchCV\n",
    "else:\n",
    "    from sklearn.cross_validation import train_test_split, cross_val_score\n",
    "    from sklearn.cross_validation import GridSearchCV, RandomizedSearchCV\n",
    "    \n",
    "import warnings\n",
    "warnings.filterwarnings(\"ignore\")\n",
    "\n",
    "from sklearn.decomposition import PCA\n",
    "from sklearn.preprocessing import StandardScaler\n",
    "from sklearn.linear_model import SGDClassifier\n",
    "from sklearn.neighbors import KNeighborsClassifier\n",
    "from sklearn.ensemble import RandomForestClassifier, GradientBoostingClassifier, AdaBoostClassifier\n",
    "from sklearn.tree import DecisionTreeClassifier\n",
    "from sklearn.metrics import accuracy_score, confusion_matrix, classification_report \n",
    "from sklearn.metrics import roc_curve, auc, roc_auc_score\n",
    "\n",
    "import matplotlib\n",
    "import matplotlib.pyplot as plt\n",
    "%matplotlib inline"
   ]
  },
  {
   "cell_type": "markdown",
   "metadata": {},
   "source": [
    "### Define Globals"
   ]
  },
  {
   "cell_type": "code",
   "execution_count": 2,
   "metadata": {},
   "outputs": [],
   "source": [
    "hold_out_percent = 0.2\n",
    "CLASSIFICATION_TYPE = 'Binary'\n",
    "\n",
    "###################################################################################################################\n",
    "# Analyze Input DataTypes and Determine Their Appropriate Conversions for ML\n",
    "###################################################################################################################\n",
    "def set_datatypes(dframe):\n",
    "    for col in dframe.columns:\n",
    "        if dframe[col].dtypes.str.startswith('int'):\n",
    "            dframe[col] = pd.to_numeric(dframe[col],\n",
    "                                        downcast='integer',\n",
    "                                        errors='coerce')\n",
    "            \n",
    "        elif dframe[col].dtypes.str.startswith('float'):\n",
    "            dframe[col] = pd.to_numeric(dframe[col],\n",
    "                                        downcast='float',\n",
    "                                        errors='coerce')\n",
    "            \n",
    "        elif dframe[col].dtypes == 'object':\n",
    "            dframe[col] = dframe[col].astype('category')\n",
    "        \n",
    "    return dframe\n",
    "\n",
    "\n",
    "###################################################################################################################\n",
    "# Calculate the Null Accuracy Score: Accommodates Binary or Multiple Classification Type\n",
    "###################################################################################################################\n",
    "def null_accuracy_score(labels, classification_type):  #NOTE: 'labels' must be a pd.Series\n",
    "    if classification_type == CLASSIFICATION_TYPE:\n",
    "        return max(labels[:,].astype(int).mean(), 1 - labels[:,].astype(int).mean())\n",
    "    \n",
    "    elif classification_type == CLASSIFICATION_TYPE:\n",
    "        return labels.value_counts().head(1).item() / len(labels) \n",
    "    \n",
    "    else:\n",
    "        raise ValueError(\"Bad input {0}. Must specify either 'Binary' or 'Multiple'.\".format(classification_type))\n",
    "        \n",
    "\n",
    "##################################################################################################################\n",
    "# Print Evaluation Metrics: Accuracy and Null Accuracy Scores\n",
    "###################################################################################################################\n",
    "def show_accuracy(y_actuals, y_predictions, classification_type):\n",
    "    accuracy = accuracy_score(y_actuals, y_predictions)\n",
    "    null_accuracy = null_accuracy_score(y_actuals, classification_type)\n",
    "\n",
    "    print('----------------------------------------------------------------------------------')\n",
    "    print('Accuracy (The Percentage of Correct Predictions): %0.3f' % accuracy)\n",
    "    print('----------------------------------------------------------------------------------')\n",
    "    print('Null Accuracy (Achieved by Always Predicting the Most Frequent Class): %0.3f' % null_accuracy)\n",
    "    print('----------------------------------------------------------------------------------')   \n",
    "    print('True:', list(y_actuals[0:10]))\n",
    "    print('Pred:', y_predictions[0:10].tolist())\n",
    "    print('----------------------------------------------------------------------------------\\n')\n",
    "        \n",
    "\n",
    "##################################################################################################################\n",
    "# Print Skree Plots: Compare the Explained Variances per Component Between Train/Test and Hold-Out Datasets\n",
    "###################################################################################################################\n",
    "def show_skree_plots(components, variances_explained):\n",
    "    fig, (ax0, ax1) = plt.subplots(nrows=2, sharex=True, figsize=(7, 7))\n",
    "    \n",
    "    ax0.set_title(\"PCA Explained Variances: Train/Test Data\")\n",
    "    ax0.scatter(components, variances_explained[0])\n",
    "    ax0.set_ylabel('Explained Variance (Eigenvalues)')\n",
    "    ax0.grid(True)\n",
    "\n",
    "    ax1.set_title(\"PCA Explained Variances: Hold-Out Data\")\n",
    "    ax1.scatter(components, variances_explained[1])\n",
    "    ax1.set_ylabel('Explained Variance (Eigenvalues)')\n",
    "    ax1.set_xlabel('Number of Components (Eigenvectors)')\n",
    "    ax1.grid(True)\n",
    "\n",
    "    plt.tight_layout()\n",
    "    plt.show()\n",
    "        \n",
    "\n",
    "###################################################################################################################\n",
    "# Print a Confusion Matrix:  Accommodates Binary or Multiple Classification Type\n",
    "###################################################################################################################\n",
    "def show_confusion_matrix(y_actuals, y_predictions, y_probabilities, classification_type):\n",
    "    print('-------------------------------------------------------')\n",
    "    print('Confusion Matrix')\n",
    "    print('-------------------------------------------------------')\n",
    "\n",
    "    cm = pd.crosstab(y_actuals, y_predictions, rownames=['Actuals'], colnames=['Predictions'])\n",
    "    print(cm)\n",
    "        \n",
    "    if classification_type == CLASSIFICATION_TYPE:\n",
    "        print('-------------------------------------------------------')\n",
    "        print('Area Under the Curve (AUC): %0.3f' % roc_auc_score(y_actuals, y_probabilities[:, 1]))\n",
    "        \n",
    "    print('-------------------------------------------------------\\n')\n",
    "    \n",
    "    \n",
    "###################################################################################################################\n",
    "# Print a Classification Report\n",
    "###################################################################################################################\n",
    "def show_classification_report(y_actuals, y_predictions):\n",
    "    print('-------------------------------------------------------')\n",
    "    print('Classification Report')\n",
    "    print('-------------------------------------------------------')\n",
    "    print(classification_report(y_actuals, y_predictions))\n",
    "    print('-------------------------------------------------------\\n')\n",
    "    \n",
    "    \n",
    "###################################################################################################################\n",
    "# Print a Classification Report Resulting from K-Fold Cross-Validation\n",
    "###################################################################################################################\n",
    "def show_cv_classification_report(classifier, X, y, K):\n",
    "    accuracy = cross_val_score(classifier, X, y, scoring='accuracy', cv=K)\n",
    "    print('--------------------------------------------------------------------------------------------')\n",
    "    print(\"Accuracy per Fold: \", accuracy)\n",
    "    print(\"Average Accuracy: %0.3f\" % accuracy.mean())\n",
    "    print(\"Standard Deviation of Accuracy: %0.3f\" % accuracy.std())\n",
    "    print('--------------------------------------------------------------------------------------------')\n",
    "    \n",
    "    precision = cross_val_score(classifier, X, y, scoring='precision_weighted', cv=K)\n",
    "    print(\"Precision per Fold: \", precision)\n",
    "    print(\"Average Precision: %0.3f\" % precision.mean())\n",
    "    print(\"Standard Deviation of Precision: %0.3f\" % precision.std())\n",
    "    print('--------------------------------------------------------------------------------------------')\n",
    "    \n",
    "    recall = cross_val_score(classifier, X, y, scoring='recall_weighted', cv=K)\n",
    "    print(\"Recall per Fold: \", recall)\n",
    "    print(\"Average Recall: %0.3f\" % recall.mean())\n",
    "    print(\"Standard Deviation of Recall: %0.3f\" % recall.std())\n",
    "    print('--------------------------------------------------------------------------------------------')\n",
    "    \n",
    "    f1 = cross_val_score(classifier, X, y, scoring='f1_weighted', cv=K)\n",
    "    print(\"F1 per Fold: \", f1)\n",
    "    print(\"Average F1: %0.3f\" % f1.mean())\n",
    "    print(\"Standard Deviation of F1: %0.3f\" % f1.std())\n",
    "    print('--------------------------------------------------------------------------------------------')\n",
    "    \n",
    "\n",
    "###################################################################################################################\n",
    "# Print a Receiver Operating Characteristic (ROC) Curve Plot (Binary Classification Only).\n",
    "###################################################################################################################\n",
    "def show_roc_plot(y_actuals, y_probabilities, classifier_algorithm):\n",
    "    plt.figure(figsize=(5,5))\n",
    "    plt.title('ROC Curve (' + classifier_algorithm + ')')\n",
    "\n",
    "    fpr, tpr, _ = roc_curve(y_actuals, y_probabilities[:, 1])\n",
    "    auc = roc_auc_score(y_actuals, y_probabilities[:, 1])\n",
    "\n",
    "    plt.plot(fpr, tpr, color='darkorange', label='ROC Curve (area = %0.2f)' % auc)\n",
    "    plt.plot([0,1], [0,1], color='steelblue', lw=2, linestyle='--')\n",
    "    plt.xlim([0.0, 1.0])\n",
    "    plt.ylim([0.0, 1.05])\n",
    "    plt.xlabel('False Positive Rate')\n",
    "    plt.ylabel('True Positive Rate')\n",
    "    plt.legend(loc='lower right')\n",
    "    plt.show()\n",
    "    \n",
    "\n",
    "###################################################################################################################\n",
    "# Save a Trained Model to a Pickle File.\n",
    "###################################################################################################################\n",
    "def export_model(model, algorithm_name):\n",
    "    file_name = \"Customer_Churn_{0}.pkl\".format(algorithm_name)\n",
    "    file_target = open(os.path.join(os.getcwd(), 'Models', file_name), 'wb')\n",
    "    pickle.dump(model, file_target, protocol=pickle.HIGHEST_PROTOCOL)\n",
    "    file_target.close()"
   ]
  },
  {
   "cell_type": "markdown",
   "metadata": {},
   "source": [
    "### Load Data"
   ]
  },
  {
   "cell_type": "code",
   "execution_count": 3,
   "metadata": {},
   "outputs": [
    {
     "name": "stdout",
     "output_type": "stream",
     "text": [
      "DataSet Dimensions: (7043, 20)\n"
     ]
    }
   ],
   "source": [
    "# Locate the Data File to be Ingested.\n",
    "data_dir = os.path.join(os.getcwd(), 'Data')\n",
    "source_file = os.path.join(data_dir, 'WA-Telco-Customer-Churn-ML.csv')\n",
    "\n",
    "# Read the Data from the Source File\n",
    "df = pd.read_csv(source_file, header=0, index_col=0)\n",
    "\n",
    "# Drop the Unique Identifier\n",
    "df = df.drop(labels=['Customerid'], axis=1)\n",
    "\n",
    "# Display the Dimensions of the DataSet Being Used.\n",
    "print(\"DataSet Dimensions:\", df.shape)"
   ]
  },
  {
   "cell_type": "markdown",
   "metadata": {},
   "source": [
    "#### Make Appropriate Data Type Assignments."
   ]
  },
  {
   "cell_type": "code",
   "execution_count": 4,
   "metadata": {},
   "outputs": [
    {
     "data": {
      "text/plain": [
       "Gender                int64\n",
       "SeniorCitizen         int64\n",
       "Partner               int64\n",
       "Dependents            int64\n",
       "Tenure                int64\n",
       "PhoneService          int64\n",
       "MultipleLines         int64\n",
       "InternetService       int64\n",
       "OnlineSecurity        int64\n",
       "OnlineBackup          int64\n",
       "DeviceProtection      int64\n",
       "TechSupport           int64\n",
       "StreamingTV           int64\n",
       "StreamingMovies       int64\n",
       "Contract              int64\n",
       "PaperlessBilling      int64\n",
       "PaymentMethod         int64\n",
       "MonthlyCharges      float64\n",
       "TotalCharges        float64\n",
       "Churn                 int64\n",
       "dtype: object"
      ]
     },
     "execution_count": 4,
     "metadata": {},
     "output_type": "execute_result"
    }
   ],
   "source": [
    "df = set_datatypes(df)\n",
    "df.dtypes"
   ]
  },
  {
   "cell_type": "markdown",
   "metadata": {},
   "source": [
    "#### Separate the Independant (Predictor) Variables (X) from the Dependant (Target, Response, or Label) Variable (y)"
   ]
  },
  {
   "cell_type": "code",
   "execution_count": 5,
   "metadata": {},
   "outputs": [],
   "source": [
    "X = df.drop(labels=['Churn'], axis=1)\n",
    "y = df.Churn"
   ]
  },
  {
   "cell_type": "markdown",
   "metadata": {},
   "source": [
    "### Select Features Based on Feature Selection Exercises"
   ]
  },
  {
   "cell_type": "code",
   "execution_count": 6,
   "metadata": {},
   "outputs": [],
   "source": [
    "X = df[['TotalCharges','MonthlyCharges','Tenure','Contract',\n",
    "        'PaymentMethod'\n",
    "        #,'OnlineSecurity'\n",
    "        , 'InternetService'\n",
    "    ]]"
   ]
  },
  {
   "cell_type": "markdown",
   "metadata": {},
   "source": [
    "#### Quickly Compare the Performance of Popular Classification Algorithms"
   ]
  },
  {
   "cell_type": "code",
   "execution_count": 7,
   "metadata": {},
   "outputs": [
    {
     "data": {
      "text/html": [
       "<div>\n",
       "<style scoped>\n",
       "    .dataframe tbody tr th:only-of-type {\n",
       "        vertical-align: middle;\n",
       "    }\n",
       "\n",
       "    .dataframe tbody tr th {\n",
       "        vertical-align: top;\n",
       "    }\n",
       "\n",
       "    .dataframe thead th {\n",
       "        text-align: right;\n",
       "    }\n",
       "</style>\n",
       "<table border=\"1\" class=\"dataframe\">\n",
       "  <thead>\n",
       "    <tr style=\"text-align: right;\">\n",
       "      <th></th>\n",
       "      <th>Accuracy</th>\n",
       "      <th>Classifier</th>\n",
       "    </tr>\n",
       "  </thead>\n",
       "  <tbody>\n",
       "    <tr>\n",
       "      <th>0</th>\n",
       "      <td>0.7941</td>\n",
       "      <td>GradientBoostingClassifier</td>\n",
       "    </tr>\n",
       "    <tr>\n",
       "      <th>1</th>\n",
       "      <td>0.7927</td>\n",
       "      <td>AdaBoostClassifier</td>\n",
       "    </tr>\n",
       "    <tr>\n",
       "      <th>2</th>\n",
       "      <td>0.7752</td>\n",
       "      <td>RandomForestClassifier</td>\n",
       "    </tr>\n",
       "    <tr>\n",
       "      <th>3</th>\n",
       "      <td>0.7612</td>\n",
       "      <td>KNeighborsClassifier</td>\n",
       "    </tr>\n",
       "    <tr>\n",
       "      <th>4</th>\n",
       "      <td>0.7282</td>\n",
       "      <td>DecisionTreeClassifier</td>\n",
       "    </tr>\n",
       "    <tr>\n",
       "      <th>5</th>\n",
       "      <td>0.6762</td>\n",
       "      <td>SGDClassifier</td>\n",
       "    </tr>\n",
       "  </tbody>\n",
       "</table>\n",
       "</div>"
      ],
      "text/plain": [
       "   Accuracy                  Classifier\n",
       "0    0.7941  GradientBoostingClassifier\n",
       "1    0.7927          AdaBoostClassifier\n",
       "2    0.7752      RandomForestClassifier\n",
       "3    0.7612        KNeighborsClassifier\n",
       "4    0.7282      DecisionTreeClassifier\n",
       "5    0.6762               SGDClassifier"
      ]
     },
     "execution_count": 7,
     "metadata": {},
     "output_type": "execute_result"
    }
   ],
   "source": [
    "clfs = []\n",
    "clf_names = []\n",
    "accuracy_scores = []\n",
    "\n",
    "clfs.append( KNeighborsClassifier() )\n",
    "clfs.append( SGDClassifier(random_state=7) )\n",
    "clfs.append( DecisionTreeClassifier(random_state=7) )\n",
    "clfs.append( AdaBoostClassifier(random_state=7) )\n",
    "clfs.append( GradientBoostingClassifier(random_state=7) )\n",
    "clfs.append( RandomForestClassifier(random_state=7) )\n",
    "\n",
    "for clf in clfs:\n",
    "    clf.fit(X, y)\n",
    "    name = str(type(clf)).split('.')[3][:-2]\n",
    "    clf_names.append(name)\n",
    "    accuracy_scores.append(cross_val_score(clf, X, y, scoring='accuracy', cv=10).mean().round(4))\n",
    "    \n",
    "# Create a new DataFrame to hold the report\n",
    "report = pd.DataFrame()\n",
    "report['Accuracy'] = accuracy_scores\n",
    "report['Classifier'] = clf_names\n",
    "    \n",
    "# Finally, display the report    \n",
    "report.sort_values(by=['Accuracy'], ascending=False).reset_index(drop=True)"
   ]
  },
  {
   "cell_type": "markdown",
   "metadata": {},
   "source": [
    "### Train a Baseline Classifier Using K-Nearest Neighbors and K-Fold Cross-Validation"
   ]
  },
  {
   "cell_type": "code",
   "execution_count": 8,
   "metadata": {},
   "outputs": [
    {
     "name": "stdout",
     "output_type": "stream",
     "text": [
      "--------------------------------------------------------------------------------------------\n",
      "Accuracy per Fold:  [0.74468085 0.7787234  0.77304965 0.76704545 0.76278409 0.74573864\n",
      " 0.76278409 0.75284091 0.75       0.77414773]\n",
      "Average Accuracy: 0.761\n",
      "Standard Deviation of Accuracy: 0.012\n",
      "--------------------------------------------------------------------------------------------\n",
      "Precision per Fold:  [0.73175866 0.76454283 0.7585886  0.75445766 0.7463076  0.73039735\n",
      " 0.75091315 0.7335514  0.73821016 0.76104997]\n",
      "Average Precision: 0.747\n",
      "Standard Deviation of Precision: 0.012\n",
      "--------------------------------------------------------------------------------------------\n",
      "Recall per Fold:  [0.74468085 0.7787234  0.77304965 0.76704545 0.76278409 0.74573864\n",
      " 0.76278409 0.75284091 0.75       0.77414773]\n",
      "Average Recall: 0.761\n",
      "Standard Deviation of Recall: 0.012\n",
      "--------------------------------------------------------------------------------------------\n",
      "F1 per Fold:  [0.7365611  0.76733222 0.76195971 0.7584773  0.75026804 0.73555913\n",
      " 0.75497419 0.7381204  0.74262327 0.76455086]\n",
      "Average F1: 0.751\n",
      "Standard Deviation of F1: 0.012\n",
      "--------------------------------------------------------------------------------------------\n",
      "CPU times: user 1.61 s, sys: 114 µs, total: 1.61 s\n",
      "Wall time: 1.61 s\n"
     ]
    }
   ],
   "source": [
    "%%time\n",
    "\n",
    "knn = KNeighborsClassifier()\n",
    "show_cv_classification_report(knn, X, y, 10)"
   ]
  },
  {
   "cell_type": "markdown",
   "metadata": {},
   "source": [
    "#### Perform Hyper-Parameter Tuning"
   ]
  },
  {
   "cell_type": "code",
   "execution_count": 9,
   "metadata": {},
   "outputs": [
    {
     "name": "stdout",
     "output_type": "stream",
     "text": [
      "CPU times: user 659 ms, sys: 84.8 ms, total: 744 ms\n",
      "Wall time: 5.45 s\n"
     ]
    },
    {
     "data": {
      "text/plain": [
       "GridSearchCV(cv=10, estimator=KNeighborsClassifier(), n_jobs=-1,\n",
       "             param_grid={'n_neighbors': [2, 3, 4, 5, 6, 7, 8, 9, 10, 11, 12, 13,\n",
       "                                         14, 15, 16, 17, 18, 19, 20, 21, 22, 23,\n",
       "                                         24, 25],\n",
       "                         'weights': ['uniform', 'distance']},\n",
       "             scoring='accuracy')"
      ]
     },
     "execution_count": 9,
     "metadata": {},
     "output_type": "execute_result"
    }
   ],
   "source": [
    "%%time\n",
    "\n",
    "# Define the parameter values to be searched\n",
    "k_range = list(range(2, 26))\n",
    "weight_options = ['uniform','distance']\n",
    "\n",
    "# Create a parameter grid\n",
    "param_grid = dict(n_neighbors=k_range, weights=weight_options)\n",
    "\n",
    "# Instantiate the grid\n",
    "grid = GridSearchCV(knn, param_grid, cv=10, scoring='accuracy', return_train_score=False, n_jobs=-1)\n",
    "\n",
    "# Finally, fit the grid\n",
    "grid.fit(X, y)"
   ]
  },
  {
   "cell_type": "markdown",
   "metadata": {},
   "source": [
    "#### View the Results"
   ]
  },
  {
   "cell_type": "code",
   "execution_count": 10,
   "metadata": {},
   "outputs": [
    {
     "data": {
      "text/html": [
       "<div>\n",
       "<style scoped>\n",
       "    .dataframe tbody tr th:only-of-type {\n",
       "        vertical-align: middle;\n",
       "    }\n",
       "\n",
       "    .dataframe tbody tr th {\n",
       "        vertical-align: top;\n",
       "    }\n",
       "\n",
       "    .dataframe thead th {\n",
       "        text-align: right;\n",
       "    }\n",
       "</style>\n",
       "<table border=\"1\" class=\"dataframe\">\n",
       "  <thead>\n",
       "    <tr style=\"text-align: right;\">\n",
       "      <th></th>\n",
       "      <th>mean_test_score</th>\n",
       "      <th>std_test_score</th>\n",
       "      <th>params</th>\n",
       "    </tr>\n",
       "  </thead>\n",
       "  <tbody>\n",
       "    <tr>\n",
       "      <th>0</th>\n",
       "      <td>0.761323</td>\n",
       "      <td>0.012801</td>\n",
       "      <td>{'n_neighbors': 2, 'weights': 'uniform'}</td>\n",
       "    </tr>\n",
       "    <tr>\n",
       "      <th>1</th>\n",
       "      <td>0.719434</td>\n",
       "      <td>0.015010</td>\n",
       "      <td>{'n_neighbors': 2, 'weights': 'distance'}</td>\n",
       "    </tr>\n",
       "    <tr>\n",
       "      <th>2</th>\n",
       "      <td>0.750672</td>\n",
       "      <td>0.015361</td>\n",
       "      <td>{'n_neighbors': 3, 'weights': 'uniform'}</td>\n",
       "    </tr>\n",
       "    <tr>\n",
       "      <th>3</th>\n",
       "      <td>0.741867</td>\n",
       "      <td>0.018018</td>\n",
       "      <td>{'n_neighbors': 3, 'weights': 'distance'}</td>\n",
       "    </tr>\n",
       "    <tr>\n",
       "      <th>4</th>\n",
       "      <td>0.767002</td>\n",
       "      <td>0.010536</td>\n",
       "      <td>{'n_neighbors': 4, 'weights': 'uniform'}</td>\n",
       "    </tr>\n",
       "  </tbody>\n",
       "</table>\n",
       "</div>"
      ],
      "text/plain": [
       "   mean_test_score  std_test_score                                     params\n",
       "0         0.761323        0.012801   {'n_neighbors': 2, 'weights': 'uniform'}\n",
       "1         0.719434        0.015010  {'n_neighbors': 2, 'weights': 'distance'}\n",
       "2         0.750672        0.015361   {'n_neighbors': 3, 'weights': 'uniform'}\n",
       "3         0.741867        0.018018  {'n_neighbors': 3, 'weights': 'distance'}\n",
       "4         0.767002        0.010536   {'n_neighbors': 4, 'weights': 'uniform'}"
      ]
     },
     "execution_count": 10,
     "metadata": {},
     "output_type": "execute_result"
    }
   ],
   "source": [
    "pd.DataFrame(grid.cv_results_)[['mean_test_score', 'std_test_score', 'params']].head()"
   ]
  },
  {
   "cell_type": "code",
   "execution_count": 11,
   "metadata": {},
   "outputs": [
    {
     "name": "stdout",
     "output_type": "stream",
     "text": [
      "----------------------------------------------------------------------------------\n",
      "Mean Test Scores (Uniform): [0.761, 0.751, 0.767, 0.761, 0.778, 0.775, 0.783, 0.781, 0.785, 0.784, 0.783, 0.782, 0.782, 0.78, 0.782, 0.783, 0.783, 0.785, 0.783, 0.785, 0.783, 0.786, 0.783, 0.784]\n",
      "----------------------------------------------------------------------------------\n",
      "Mean Test Scores (Distance): [0.719, 0.742, 0.748, 0.754, 0.757, 0.762, 0.767, 0.771, 0.774, 0.775, 0.774, 0.775, 0.777, 0.774, 0.775, 0.776, 0.777, 0.777, 0.778, 0.779, 0.779, 0.781, 0.783, 0.784]\n",
      "----------------------------------------------------------------------------------\n",
      "K-Range Values: [2, 3, 4, 5, 6, 7, 8, 9, 10, 11, 12, 13, 14, 15, 16, 17, 18, 19, 20, 21, 22, 23, 24, 25]\n",
      "----------------------------------------------------------------------------------\n"
     ]
    }
   ],
   "source": [
    "mean_test_scores = grid.cv_results_['mean_test_score']\n",
    "params = grid.cv_results_['params']\n",
    "\n",
    "items = list(range(0, len(params)))\n",
    "weights = []\n",
    "\n",
    "for i in items:\n",
    "    weights.append(params[i]['weights'])\n",
    "\n",
    "results = pd.DataFrame({'scores':mean_test_scores, 'weights':weights})      \n",
    "uniform_scores = results[results.weights == 'uniform'].scores\n",
    "distance_scores = results[results.weights == 'distance'].scores\n",
    "\n",
    "print('----------------------------------------------------------------------------------')\n",
    "print('Mean Test Scores (Uniform):', round(uniform_scores, 3).tolist())\n",
    "print('----------------------------------------------------------------------------------')\n",
    "print('Mean Test Scores (Distance):', round(distance_scores, 3).tolist())\n",
    "print('----------------------------------------------------------------------------------')\n",
    "print('K-Range Values:', k_range)\n",
    "print('----------------------------------------------------------------------------------')"
   ]
  },
  {
   "cell_type": "markdown",
   "metadata": {},
   "source": [
    "#### Plot the Mean Test Scores by Weight Against the Number of Neighbors (K)"
   ]
  },
  {
   "cell_type": "code",
   "execution_count": 12,
   "metadata": {},
   "outputs": [
    {
     "data": {
      "image/png": "[encoded data removed]",
      "text/plain": [
       "<Figure size 432x288 with 1 Axes>"
      ]
     },
     "metadata": {
      "needs_background": "light"
     },
     "output_type": "display_data"
    }
   ],
   "source": [
    "# Plot the scores\n",
    "plt.title('Mean Test Scores by Weight')\n",
    "plt.plot(k_range, uniform_scores, color='steelblue', label='Uniform')\n",
    "plt.plot(k_range, distance_scores, color='darkorange', label='Distance')\n",
    "plt.legend(loc='lower right', title='Weights')\n",
    "plt.xlabel('Value of K for KNN')\n",
    "plt.ylabel('Cross-validated Accuracy')\n",
    "plt.grid(True)"
   ]
  },
  {
   "cell_type": "code",
   "execution_count": 13,
   "metadata": {},
   "outputs": [
    {
     "name": "stdout",
     "output_type": "stream",
     "text": [
      "0.7864541021921342\n",
      "{'n_neighbors': 23, 'weights': 'uniform'}\n",
      "KNeighborsClassifier(n_neighbors=23)\n"
     ]
    }
   ],
   "source": [
    "# Examine the best score\n",
    "print(grid.best_score_)\n",
    "print(grid.best_params_)\n",
    "print(grid.best_estimator_)"
   ]
  },
  {
   "cell_type": "markdown",
   "metadata": {},
   "source": [
    "#### Use the Best Hyper-Parameters to Make Predictions Using Hold-Out Data"
   ]
  },
  {
   "cell_type": "code",
   "execution_count": 14,
   "metadata": {
    "scrolled": true
   },
   "outputs": [
    {
     "name": "stdout",
     "output_type": "stream",
     "text": [
      "--------------------------------------------------------------------------------------------\n",
      "Accuracy per Fold:  [0.7787234  0.80141844 0.78297872 0.77840909 0.79119318 0.77556818\n",
      " 0.80113636 0.77556818 0.78267045 0.796875  ]\n",
      "Average Accuracy: 0.786\n",
      "Standard Deviation of Accuracy: 0.010\n",
      "--------------------------------------------------------------------------------------------\n",
      "Precision per Fold:  [0.76377034 0.78994081 0.76692217 0.76157915 0.77730751 0.75674885\n",
      " 0.78930483 0.75687374 0.76649365 0.78431713]\n",
      "Average Precision: 0.771\n",
      "Standard Deviation of Precision: 0.012\n",
      "--------------------------------------------------------------------------------------------\n",
      "Recall per Fold:  [0.7787234  0.80141844 0.78297872 0.77840909 0.79119318 0.77556818\n",
      " 0.80113636 0.77556818 0.78267045 0.796875  ]\n",
      "Average Recall: 0.786\n",
      "Standard Deviation of Recall: 0.010\n",
      "--------------------------------------------------------------------------------------------\n",
      "F1 per Fold:  [0.76614421 0.78288202 0.75767734 0.76250621 0.76991527 0.75230075\n",
      " 0.78390372 0.74899206 0.765568   0.77758297]\n",
      "Average F1: 0.767\n",
      "Standard Deviation of F1: 0.011\n",
      "--------------------------------------------------------------------------------------------\n",
      "CPU times: user 1.73 s, sys: 32.2 ms, total: 1.76 s\n",
      "Wall time: 1.75 s\n"
     ]
    }
   ],
   "source": [
    "%%time\n",
    "\n",
    "n_neighbors = grid.best_params_['n_neighbors']\n",
    "weights_option = grid.best_params_['weights']\n",
    "\n",
    "knn = KNeighborsClassifier(n_neighbors = n_neighbors, weights = weights_option)\n",
    "show_cv_classification_report(knn, X, y, 10)"
   ]
  },
  {
   "cell_type": "markdown",
   "metadata": {},
   "source": [
    "### Partition Dataset for Training, Testing and Evaluating Models\n",
    "#### Create a Hold-Out Data Set for Model Evaluation"
   ]
  },
  {
   "cell_type": "code",
   "execution_count": 15,
   "metadata": {},
   "outputs": [
    {
     "name": "stdout",
     "output_type": "stream",
     "text": [
      "-------------------------------------------------------------------\n",
      "Train/Test Observations: (5634, 6)\n",
      "Evaluation Observations: (1409, 6)\n",
      "-------------------------------------------------------------------\n",
      "\n",
      "Train/Test Label Distribution:\n",
      " 0    4138\n",
      "1    1496\n",
      "Name: Churn, dtype: int64\n",
      "-------------------------------------------------------------------\n",
      "Evaluation Label Distribution:\n",
      " 0    1036\n",
      "1     373\n",
      "Name: Churn, dtype: int64\n",
      "-------------------------------------------------------------------\n"
     ]
    }
   ],
   "source": [
    "# Divide into Train/Test and Evaluation (Hold-Out) Sets.\n",
    "X, X_eval, y, y_eval = train_test_split(X, y, test_size = hold_out_percent, random_state=42)\n",
    "\n",
    "# Use 80% of the observations for training and testing...\n",
    "print('-------------------------------------------------------------------')\n",
    "print(\"Train/Test Observations:\", X.shape)\n",
    "\n",
    "# ...And hod out the rest for final evaluation.\n",
    "print(\"Evaluation Observations:\", X_eval.shape)\n",
    "print('-------------------------------------------------------------------\\n')\n",
    "\n",
    "# Examine the distribution of Labels for the two datasets.\n",
    "print(\"Train/Test Label Distribution:\\n\", y.value_counts())\n",
    "print('-------------------------------------------------------------------')\n",
    "print(\"Evaluation Label Distribution:\\n\", y_eval.value_counts())\n",
    "print('-------------------------------------------------------------------')"
   ]
  },
  {
   "cell_type": "markdown",
   "metadata": {},
   "source": [
    "#### Create Training and Testing Datasets "
   ]
  },
  {
   "cell_type": "code",
   "execution_count": 16,
   "metadata": {},
   "outputs": [
    {
     "name": "stdout",
     "output_type": "stream",
     "text": [
      "-------------------------------------------------------------------\n",
      "Training Observations: (4507, 6)\n",
      "Testing Observations: (1127, 6)\n",
      "-------------------------------------------------------------------\n",
      "\n",
      "Training Label Distribution:\n",
      " 0    3316\n",
      "1    1191\n",
      "Name: Churn, dtype: int64\n",
      "-------------------------------------------------------------------\n",
      "Testing Label Distribution:\n",
      " 0    822\n",
      "1    305\n",
      "Name: Churn, dtype: int64\n",
      "-------------------------------------------------------------------\n"
     ]
    }
   ],
   "source": [
    "X_train, X_test, y_train, y_test = train_test_split(X, y, test_size=0.2, random_state=42)\n",
    "\n",
    "# Use 60% of the observations for training...\n",
    "print('-------------------------------------------------------------------')\n",
    "print(\"Training Observations:\", X_train.shape)\n",
    "\n",
    "# ...And use the rest for testing.\n",
    "print(\"Testing Observations:\", X_test.shape)\n",
    "print('-------------------------------------------------------------------\\n')\n",
    "\n",
    "# Examine the distribution of Labels for the two datasets.\n",
    "print(\"Training Label Distribution:\\n\", y_train.value_counts())\n",
    "print('-------------------------------------------------------------------')\n",
    "print(\"Testing Label Distribution:\\n\", y_test.value_counts())\n",
    "print('-------------------------------------------------------------------')"
   ]
  },
  {
   "cell_type": "markdown",
   "metadata": {},
   "source": [
    "#### Perform Scalar Standardization of Each Dataset."
   ]
  },
  {
   "cell_type": "code",
   "execution_count": 17,
   "metadata": {},
   "outputs": [],
   "source": [
    "sc = StandardScaler()\n",
    "\n",
    "X_train = sc.fit_transform(X_train)\n",
    "X_test = sc.transform(X_test)\n",
    "\n",
    "X = sc.fit_transform(X)\n",
    "X_eval = sc.transform(X_eval)"
   ]
  },
  {
   "cell_type": "markdown",
   "metadata": {},
   "source": [
    "### Train a Classification Model Using the GradiantBoostingClassifier "
   ]
  },
  {
   "cell_type": "code",
   "execution_count": 18,
   "metadata": {},
   "outputs": [
    {
     "name": "stdout",
     "output_type": "stream",
     "text": [
      "CPU times: user 600 ms, sys: 0 ns, total: 600 ms\n",
      "Wall time: 598 ms\n"
     ]
    }
   ],
   "source": [
    "%%time\n",
    "\n",
    "# Train using the Training data.\n",
    "gbc = GradientBoostingClassifier(random_state=42)\n",
    "gbc.fit(X_train, y_train)\n",
    "\n",
    "# Make Predictions using the Test data.\n",
    "y_pred = gbc.predict(X_test)\n",
    "y_probs = gbc.predict_proba(X_test)"
   ]
  },
  {
   "cell_type": "markdown",
   "metadata": {},
   "source": [
    "#### Evaluate the Model's Efficacy using Metrics, a Confusion Matrix and Classification Report"
   ]
  },
  {
   "cell_type": "code",
   "execution_count": 19,
   "metadata": {},
   "outputs": [
    {
     "name": "stdout",
     "output_type": "stream",
     "text": [
      "----------------------------------------------------------------------------------\n",
      "Accuracy (The Percentage of Correct Predictions): 0.782\n",
      "----------------------------------------------------------------------------------\n",
      "Null Accuracy (Achieved by Always Predicting the Most Frequent Class): 0.729\n",
      "----------------------------------------------------------------------------------\n",
      "True: [0, 0, 1, 1, 0, 0, 0, 0, 0, 0]\n",
      "Pred: [0, 0, 1, 1, 0, 0, 0, 0, 0, 0]\n",
      "----------------------------------------------------------------------------------\n",
      "\n",
      "-------------------------------------------------------\n",
      "Confusion Matrix\n",
      "-------------------------------------------------------\n",
      "Predictions    0    1\n",
      "Actuals              \n",
      "0            734   88\n",
      "1            158  147\n",
      "-------------------------------------------------------\n",
      "Area Under the Curve (AUC): 0.827\n",
      "-------------------------------------------------------\n",
      "\n",
      "-------------------------------------------------------\n",
      "Classification Report\n",
      "-------------------------------------------------------\n",
      "              precision    recall  f1-score   support\n",
      "\n",
      "           0       0.82      0.89      0.86       822\n",
      "           1       0.63      0.48      0.54       305\n",
      "\n",
      "    accuracy                           0.78      1127\n",
      "   macro avg       0.72      0.69      0.70      1127\n",
      "weighted avg       0.77      0.78      0.77      1127\n",
      "\n",
      "-------------------------------------------------------\n",
      "\n"
     ]
    },
    {
     "data": {
      "image/png": "[encoded data removed]",
      "text/plain": [
       "<Figure size 360x360 with 1 Axes>"
      ]
     },
     "metadata": {
      "needs_background": "light"
     },
     "output_type": "display_data"
    }
   ],
   "source": [
    "show_accuracy(y_test, y_pred, CLASSIFICATION_TYPE)\n",
    "show_confusion_matrix(y_test, y_pred, y_probs, CLASSIFICATION_TYPE)\n",
    "show_classification_report(y_test, y_pred)\n",
    "\n",
    "if CLASSIFICATION_TYPE == 'Binary':\n",
    "    show_roc_plot(y_test, y_probs, 'Gradiant Boosting Classifier')"
   ]
  },
  {
   "cell_type": "markdown",
   "metadata": {},
   "source": [
    "#### Perform Hyper-Parameter Tuning for the Gradiant Boosting Classifier"
   ]
  },
  {
   "cell_type": "code",
   "execution_count": 20,
   "metadata": {},
   "outputs": [
    {
     "name": "stdout",
     "output_type": "stream",
     "text": [
      "CPU times: user 622 ms, sys: 52.4 ms, total: 674 ms\n",
      "Wall time: 49.9 s\n"
     ]
    },
    {
     "data": {
      "text/plain": [
       "RandomizedSearchCV(cv=10, estimator=GradientBoostingClassifier(random_state=42),\n",
       "                   n_jobs=-1,\n",
       "                   param_distributions={'learning_rate': [0.001, 0.01, 0.1, 0.2,\n",
       "                                                          0.4, 0.6, 0.8, 1.0],\n",
       "                                        'max_depth': [1, 2, 3, 4, 5, 6, 7, 8,\n",
       "                                                      9],\n",
       "                                        'max_features': [None, 'auto', 'sqrt',\n",
       "                                                         'log2'],\n",
       "                                        'n_estimators': [100, 200, 300, 400,\n",
       "                                                         500]},\n",
       "                   random_state=42, scoring='accuracy')"
      ]
     },
     "execution_count": 20,
     "metadata": {},
     "output_type": "execute_result"
    }
   ],
   "source": [
    "%%time\n",
    "\n",
    "# Define the parameter values to be searched\n",
    "estimator_range = [100, 200, 300,400, 500]\n",
    "learning_rate_range = [0.001, 0.01, 0.1, 0.2, 0.4, 0.6, 0.8, 1.0]\n",
    "max_features_options = [None, 'auto','sqrt','log2']\n",
    "max_depth_range = list(range(1, 10))\n",
    "\n",
    "# Create parameter distributions\n",
    "param_dist = dict(n_estimators = estimator_range\n",
    "                  , learning_rate = learning_rate_range\n",
    "                  , max_features = max_features_options\n",
    "                  , max_depth = max_depth_range\n",
    "                 )\n",
    "\n",
    "# Instantiate the grid\n",
    "rand = RandomizedSearchCV(gbc, param_dist, cv=10, scoring='accuracy', n_iter=10, random_state=42, n_jobs=-1) \n",
    "rand.return_train_score=False\n",
    "\n",
    "# Finally, fit the grid\n",
    "rand.fit(X_train, y_train)"
   ]
  },
  {
   "cell_type": "markdown",
   "metadata": {},
   "source": [
    "#### View the Results"
   ]
  },
  {
   "cell_type": "code",
   "execution_count": 21,
   "metadata": {},
   "outputs": [
    {
     "data": {
      "text/html": [
       "<div>\n",
       "<style scoped>\n",
       "    .dataframe tbody tr th:only-of-type {\n",
       "        vertical-align: middle;\n",
       "    }\n",
       "\n",
       "    .dataframe tbody tr th {\n",
       "        vertical-align: top;\n",
       "    }\n",
       "\n",
       "    .dataframe thead th {\n",
       "        text-align: right;\n",
       "    }\n",
       "</style>\n",
       "<table border=\"1\" class=\"dataframe\">\n",
       "  <thead>\n",
       "    <tr style=\"text-align: right;\">\n",
       "      <th></th>\n",
       "      <th>mean_test_score</th>\n",
       "      <th>std_test_score</th>\n",
       "      <th>params</th>\n",
       "    </tr>\n",
       "  </thead>\n",
       "  <tbody>\n",
       "    <tr>\n",
       "      <th>0</th>\n",
       "      <td>0.750616</td>\n",
       "      <td>0.012521</td>\n",
       "      <td>{'n_estimators': 200, 'max_features': 'auto', ...</td>\n",
       "    </tr>\n",
       "    <tr>\n",
       "      <th>1</th>\n",
       "      <td>0.764371</td>\n",
       "      <td>0.015266</td>\n",
       "      <td>{'n_estimators': 100, 'max_features': None, 'm...</td>\n",
       "    </tr>\n",
       "    <tr>\n",
       "      <th>2</th>\n",
       "      <td>0.752398</td>\n",
       "      <td>0.023369</td>\n",
       "      <td>{'n_estimators': 500, 'max_features': 'sqrt', ...</td>\n",
       "    </tr>\n",
       "    <tr>\n",
       "      <th>3</th>\n",
       "      <td>0.766147</td>\n",
       "      <td>0.015198</td>\n",
       "      <td>{'n_estimators': 100, 'max_features': 'sqrt', ...</td>\n",
       "    </tr>\n",
       "    <tr>\n",
       "      <th>4</th>\n",
       "      <td>0.798544</td>\n",
       "      <td>0.011280</td>\n",
       "      <td>{'n_estimators': 100, 'max_features': 'log2', ...</td>\n",
       "    </tr>\n",
       "    <tr>\n",
       "      <th>5</th>\n",
       "      <td>0.760159</td>\n",
       "      <td>0.018987</td>\n",
       "      <td>{'n_estimators': 500, 'max_features': None, 'm...</td>\n",
       "    </tr>\n",
       "    <tr>\n",
       "      <th>6</th>\n",
       "      <td>0.735744</td>\n",
       "      <td>0.000661</td>\n",
       "      <td>{'n_estimators': 200, 'max_features': None, 'm...</td>\n",
       "    </tr>\n",
       "    <tr>\n",
       "      <th>7</th>\n",
       "      <td>0.777464</td>\n",
       "      <td>0.016295</td>\n",
       "      <td>{'n_estimators': 200, 'max_features': 'auto', ...</td>\n",
       "    </tr>\n",
       "    <tr>\n",
       "      <th>8</th>\n",
       "      <td>0.761271</td>\n",
       "      <td>0.017279</td>\n",
       "      <td>{'n_estimators': 400, 'max_features': 'log2', ...</td>\n",
       "    </tr>\n",
       "    <tr>\n",
       "      <th>9</th>\n",
       "      <td>0.783455</td>\n",
       "      <td>0.014223</td>\n",
       "      <td>{'n_estimators': 100, 'max_features': 'sqrt', ...</td>\n",
       "    </tr>\n",
       "  </tbody>\n",
       "</table>\n",
       "</div>"
      ],
      "text/plain": [
       "   mean_test_score  std_test_score  \\\n",
       "0         0.750616        0.012521   \n",
       "1         0.764371        0.015266   \n",
       "2         0.752398        0.023369   \n",
       "3         0.766147        0.015198   \n",
       "4         0.798544        0.011280   \n",
       "5         0.760159        0.018987   \n",
       "6         0.735744        0.000661   \n",
       "7         0.777464        0.016295   \n",
       "8         0.761271        0.017279   \n",
       "9         0.783455        0.014223   \n",
       "\n",
       "                                              params  \n",
       "0  {'n_estimators': 200, 'max_features': 'auto', ...  \n",
       "1  {'n_estimators': 100, 'max_features': None, 'm...  \n",
       "2  {'n_estimators': 500, 'max_features': 'sqrt', ...  \n",
       "3  {'n_estimators': 100, 'max_features': 'sqrt', ...  \n",
       "4  {'n_estimators': 100, 'max_features': 'log2', ...  \n",
       "5  {'n_estimators': 500, 'max_features': None, 'm...  \n",
       "6  {'n_estimators': 200, 'max_features': None, 'm...  \n",
       "7  {'n_estimators': 200, 'max_features': 'auto', ...  \n",
       "8  {'n_estimators': 400, 'max_features': 'log2', ...  \n",
       "9  {'n_estimators': 100, 'max_features': 'sqrt', ...  "
      ]
     },
     "execution_count": 21,
     "metadata": {},
     "output_type": "execute_result"
    }
   ],
   "source": [
    "pd.DataFrame(rand.cv_results_)[['mean_test_score', 'std_test_score', 'params']]"
   ]
  },
  {
   "cell_type": "code",
   "execution_count": 22,
   "metadata": {},
   "outputs": [
    {
     "name": "stdout",
     "output_type": "stream",
     "text": [
      "-------------------------------------------------------------------\n",
      "Mean Test Scores: [0.75061592 0.76437053 0.75239763 0.76614733 0.79854447 0.76015915\n",
      " 0.73574427 0.7774644  0.76127076 0.78345455]\n",
      "-------------------------------------------------------------------\n",
      "Estimator Values: [100, 100, 100, 100, 200, 200, 200, 400, 500, 500]\n",
      "-------------------------------------------------------------------\n"
     ]
    }
   ],
   "source": [
    "dist_mean_scores = rand.cv_results_['mean_test_score']\n",
    "param_estimators = rand.cv_results_['params']\n",
    "items = list(range(0, len(param_estimators)))\n",
    "\n",
    "estimators = []\n",
    "\n",
    "for i in items:\n",
    "    estimators.append(param_estimators[i]['n_estimators'])\n",
    "    estimators.sort()\n",
    "    \n",
    "print('-------------------------------------------------------------------')    \n",
    "print('Mean Test Scores:', dist_mean_scores)\n",
    "print('-------------------------------------------------------------------')\n",
    "print('Estimator Values:', estimators)\n",
    "print('-------------------------------------------------------------------')"
   ]
  },
  {
   "cell_type": "code",
   "execution_count": 23,
   "metadata": {},
   "outputs": [
    {
     "data": {
      "text/plain": [
       "Text(0, 0.5, 'Mean Test Scores')"
      ]
     },
     "execution_count": 23,
     "metadata": {},
     "output_type": "execute_result"
    },
    {
     "data": {
      "image/png": "[encoded data removed]",
      "text/plain": [
       "<Figure size 432x288 with 1 Axes>"
      ]
     },
     "metadata": {
      "needs_background": "light"
     },
     "output_type": "display_data"
    }
   ],
   "source": [
    "# Plot the scores\n",
    "plt.title('Mean Test Scores by Number of Estimators')\n",
    "plt.plot(estimators, dist_mean_scores, color='steelblue')\n",
    "plt.xlabel('Number of Estimators')\n",
    "plt.ylabel('Mean Test Scores')"
   ]
  },
  {
   "cell_type": "code",
   "execution_count": 24,
   "metadata": {},
   "outputs": [
    {
     "name": "stdout",
     "output_type": "stream",
     "text": [
      "0.7985444690810545\n",
      "{'n_estimators': 100, 'max_features': 'log2', 'max_depth': 1, 'learning_rate': 0.8}\n",
      "GradientBoostingClassifier(learning_rate=0.8, max_depth=1, max_features='log2',\n",
      "                           random_state=42)\n"
     ]
    }
   ],
   "source": [
    "# Examine the best score\n",
    "print(rand.best_score_)\n",
    "print(rand.best_params_)\n",
    "print(rand.best_estimator_)"
   ]
  },
  {
   "cell_type": "markdown",
   "metadata": {},
   "source": [
    "#### Use the Best Parameters to Make Predictions Using the Hold-Out Data"
   ]
  },
  {
   "cell_type": "code",
   "execution_count": 25,
   "metadata": {},
   "outputs": [
    {
     "name": "stdout",
     "output_type": "stream",
     "text": [
      "CPU times: user 185 ms, sys: 4 µs, total: 185 ms\n",
      "Wall time: 184 ms\n"
     ]
    }
   ],
   "source": [
    "%%time\n",
    "\n",
    "n_estimators = rand.best_params_['n_estimators']\n",
    "learning_rate = rand.best_params_['learning_rate']\n",
    "max_feature = rand.best_params_['max_features']\n",
    "max_depth = rand.best_params_['max_depth']\n",
    "\n",
    "gbc = GradientBoostingClassifier(n_estimators = n_estimators\n",
    "                                 , learning_rate = learning_rate\n",
    "                                 , max_features = max_feature\n",
    "                                 , max_depth = max_depth\n",
    "                                 , random_state = 42\n",
    "                            )\n",
    "\n",
    "gbc.fit(X, y)\n",
    "\n",
    "y_pred = rand.predict(X_eval)\n",
    "y_probs = rand.predict_proba(X_eval)"
   ]
  },
  {
   "cell_type": "markdown",
   "metadata": {},
   "source": [
    "#### Evaluate the Model's Efficacy using Metrics, a Confusion Matrix and Classification Report"
   ]
  },
  {
   "cell_type": "code",
   "execution_count": 26,
   "metadata": {},
   "outputs": [
    {
     "name": "stdout",
     "output_type": "stream",
     "text": [
      "----------------------------------------------------------------------------------\n",
      "Accuracy (The Percentage of Correct Predictions): 0.808\n",
      "----------------------------------------------------------------------------------\n",
      "Null Accuracy (Achieved by Always Predicting the Most Frequent Class): 0.735\n",
      "----------------------------------------------------------------------------------\n",
      "True: [1, 0, 0, 1, 0, 1, 0, 0, 1, 1]\n",
      "Pred: [1, 0, 0, 1, 0, 0, 0, 0, 0, 0]\n",
      "----------------------------------------------------------------------------------\n",
      "\n",
      "-------------------------------------------------------\n",
      "Confusion Matrix\n",
      "-------------------------------------------------------\n",
      "Predictions    0    1\n",
      "Actuals              \n",
      "0            939   97\n",
      "1            174  199\n",
      "-------------------------------------------------------\n",
      "Area Under the Curve (AUC): 0.859\n",
      "-------------------------------------------------------\n",
      "\n",
      "-------------------------------------------------------\n",
      "Classification Report\n",
      "-------------------------------------------------------\n",
      "              precision    recall  f1-score   support\n",
      "\n",
      "           0       0.84      0.91      0.87      1036\n",
      "           1       0.67      0.53      0.59       373\n",
      "\n",
      "    accuracy                           0.81      1409\n",
      "   macro avg       0.76      0.72      0.73      1409\n",
      "weighted avg       0.80      0.81      0.80      1409\n",
      "\n",
      "-------------------------------------------------------\n",
      "\n"
     ]
    },
    {
     "data": {
      "image/png": "[encoded data removed]",
      "text/plain": [
       "<Figure size 360x360 with 1 Axes>"
      ]
     },
     "metadata": {
      "needs_background": "light"
     },
     "output_type": "display_data"
    }
   ],
   "source": [
    "show_accuracy(y_eval, y_pred, CLASSIFICATION_TYPE)\n",
    "show_confusion_matrix(y_eval, y_pred, y_probs, CLASSIFICATION_TYPE)\n",
    "show_classification_report(y_eval, y_pred)\n",
    "\n",
    "if CLASSIFICATION_TYPE == 'Binary':\n",
    "    show_roc_plot(y_eval, y_probs, 'Random Forests Classifier')"
   ]
  },
  {
   "cell_type": "markdown",
   "metadata": {},
   "source": [
    "#### Use K-Fold Cross-Validation to Detect Overfitting"
   ]
  },
  {
   "cell_type": "code",
   "execution_count": 27,
   "metadata": {
    "scrolled": true
   },
   "outputs": [
    {
     "name": "stdout",
     "output_type": "stream",
     "text": [
      "--------------------------------------------------------------------------------------------\n",
      "Accuracy per Fold:  [0.78368794 0.82624113 0.79432624 0.80673759 0.77619893 0.80284192\n",
      " 0.79573712 0.79573712 0.76554174 0.78685613]\n",
      "Average Accuracy: 0.793\n",
      "Standard Deviation of Accuracy: 0.016\n",
      "--------------------------------------------------------------------------------------------\n",
      "Precision per Fold:  [0.76878069 0.82085482 0.78559169 0.79604477 0.76472289 0.79089969\n",
      " 0.78392736 0.78430839 0.74658475 0.77286214]\n",
      "Average Precision: 0.781\n",
      "Standard Deviation of Precision: 0.019\n",
      "--------------------------------------------------------------------------------------------\n",
      "Recall per Fold:  [0.78368794 0.82624113 0.79432624 0.80673759 0.77619893 0.80284192\n",
      " 0.79573712 0.79573712 0.76554174 0.78685613]\n",
      "Average Recall: 0.793\n",
      "Standard Deviation of Recall: 0.016\n",
      "--------------------------------------------------------------------------------------------\n",
      "F1 per Fold:  [0.76979305 0.82254414 0.78828072 0.79599988 0.76825473 0.78895067\n",
      " 0.78562735 0.78628755 0.74878708 0.77392892]\n",
      "Average F1: 0.783\n",
      "Standard Deviation of F1: 0.019\n",
      "--------------------------------------------------------------------------------------------\n",
      "CPU times: user 6.5 s, sys: 0 ns, total: 6.5 s\n",
      "Wall time: 6.49 s\n"
     ]
    }
   ],
   "source": [
    "%%time\n",
    "\n",
    "show_cv_classification_report(gbc, X, y, 10)"
   ]
  },
  {
   "cell_type": "markdown",
   "metadata": {},
   "source": [
    "#### Export the Best Fit Model to a Pickle file."
   ]
  },
  {
   "cell_type": "code",
   "execution_count": 28,
   "metadata": {},
   "outputs": [],
   "source": [
    "export_model(gbc, \"GradiantBoostingClassifier\")"
   ]
  },
  {
   "cell_type": "code",
   "execution_count": null,
   "metadata": {},
   "outputs": [],
   "source": []
  }
 ],
 "metadata": {
  "anaconda-cloud": {},
  "kernelspec": {
   "display_name": "Python 3",
   "language": "python",
   "name": "python3"
  },
  "language_info": {
   "codemirror_mode": {
    "name": "ipython",
    "version": 3
   },
   "file_extension": ".py",
   "mimetype": "text/x-python",
   "name": "python",
   "nbconvert_exporter": "python",
   "pygments_lexer": "ipython3",
   "version": "3.6.9"
  }
 },
 "nbformat": 4,
 "nbformat_minor": 1
}
